{
 "cells": [
  {
   "cell_type": "markdown",
   "metadata": {},
   "source": [
    "# Week 3 - Data visualisation"
   ]
  },
  {
   "cell_type": "markdown",
   "metadata": {},
   "source": [
    "## Modules required\n",
    "To visualize data in Python, we will be using an external module called [plotnine](https://plotnine.readthedocs.io/en/stable/). To install plotnine, launch the \"Anaconda Prompt (Anaconda3)\" program and run the following command: `conda install -c conda-forge plotnine`\n",
    "\n",
    "<img src=\"../img/AZ_conda_prompt.png\" width=\"400\">"
   ]
  },
  {
   "cell_type": "markdown",
   "metadata": {
    "id": "Tr8Vx9rE9b20"
   },
   "source": [
    "When importing plotnine, we will alias it as `p9`. We also need to import numpy and pandas, using the same aliases as before."
   ]
  },
  {
   "cell_type": "code",
   "execution_count": 1,
   "metadata": {
    "executionInfo": {
     "elapsed": 3303,
     "status": "ok",
     "timestamp": 1612090971576,
     "user": {
      "displayName": "",
      "photoUrl": "",
      "userId": ""
     },
     "user_tz": 0
    },
    "id": "FxOo5Gji9b21"
   },
   "outputs": [],
   "source": [
    "import plotnine as p9\n",
    "import numpy as np\n",
    "import pandas as pd"
   ]
  },
  {
   "cell_type": "markdown",
   "metadata": {
    "id": "sh8HbWK_9b21"
   },
   "source": [
    "# Basic visualization\n",
    "With plotnine, you can build a plot using only 2 lines of code:\n",
    "\n",
    "1. a new `ggplot()` object: this creates a plot object, and holds the details of which variables will be displayed on which axes a.k.a. aesthetics -- `aes()` in short\n",
    "2. a geom e.g. `geom_point()`, `geom_line()` ...: this specifies the kind of plot that will be created\n",
    "\n",
    "And that's it! This structure is called the grammar of graphics, and it is used by other plotting libraries in other languages, such as ggplot in R.\n",
    "\n",
    "## Input data\n",
    "To keep things simple, we will use an artificial dataset to start with. We can make this with pandas, as covered in the previous session:"
   ]
  },
  {
   "cell_type": "code",
   "execution_count": 2,
   "metadata": {
    "colab": {
     "base_uri": "https://localhost:8080/",
     "height": 266
    },
    "executionInfo": {
     "elapsed": 610,
     "status": "ok",
     "timestamp": 1612092687907,
     "user": {
      "displayName": "",
      "photoUrl": "",
      "userId": ""
     },
     "user_tz": 0
    },
    "id": "ZkwI0bUN9b22",
    "outputId": "3bc20e92-57a5-4c86-f0f4-cd3ba9f3fe61"
   },
   "outputs": [
    {
     "data": {
      "text/html": [
       "<div>\n",
       "<style scoped>\n",
       "    .dataframe tbody tr th:only-of-type {\n",
       "        vertical-align: middle;\n",
       "    }\n",
       "\n",
       "    .dataframe tbody tr th {\n",
       "        vertical-align: top;\n",
       "    }\n",
       "\n",
       "    .dataframe thead th {\n",
       "        text-align: right;\n",
       "    }\n",
       "</style>\n",
       "<table border=\"1\" class=\"dataframe\">\n",
       "  <thead>\n",
       "    <tr style=\"text-align: right;\">\n",
       "      <th></th>\n",
       "      <th>City</th>\n",
       "      <th>Year</th>\n",
       "      <th>Rainfall</th>\n",
       "    </tr>\n",
       "  </thead>\n",
       "  <tbody>\n",
       "    <tr>\n",
       "      <th>0</th>\n",
       "      <td>Manchester</td>\n",
       "      <td>1980</td>\n",
       "      <td>200</td>\n",
       "    </tr>\n",
       "    <tr>\n",
       "      <th>1</th>\n",
       "      <td>Manchester</td>\n",
       "      <td>1990</td>\n",
       "      <td>190</td>\n",
       "    </tr>\n",
       "    <tr>\n",
       "      <th>2</th>\n",
       "      <td>Manchester</td>\n",
       "      <td>2000</td>\n",
       "      <td>160</td>\n",
       "    </tr>\n",
       "    <tr>\n",
       "      <th>3</th>\n",
       "      <td>Manchester</td>\n",
       "      <td>2010</td>\n",
       "      <td>170</td>\n",
       "    </tr>\n",
       "    <tr>\n",
       "      <th>4</th>\n",
       "      <td>Manchester</td>\n",
       "      <td>2020</td>\n",
       "      <td>140</td>\n",
       "    </tr>\n",
       "    <tr>\n",
       "      <th>5</th>\n",
       "      <td>London</td>\n",
       "      <td>1980</td>\n",
       "      <td>100</td>\n",
       "    </tr>\n",
       "    <tr>\n",
       "      <th>6</th>\n",
       "      <td>London</td>\n",
       "      <td>1990</td>\n",
       "      <td>90</td>\n",
       "    </tr>\n",
       "    <tr>\n",
       "      <th>7</th>\n",
       "      <td>London</td>\n",
       "      <td>2000</td>\n",
       "      <td>60</td>\n",
       "    </tr>\n",
       "    <tr>\n",
       "      <th>8</th>\n",
       "      <td>London</td>\n",
       "      <td>2010</td>\n",
       "      <td>70</td>\n",
       "    </tr>\n",
       "    <tr>\n",
       "      <th>9</th>\n",
       "      <td>London</td>\n",
       "      <td>2020</td>\n",
       "      <td>80</td>\n",
       "    </tr>\n",
       "  </tbody>\n",
       "</table>\n",
       "</div>"
      ],
      "text/plain": [
       "         City  Year  Rainfall\n",
       "0  Manchester  1980       200\n",
       "1  Manchester  1990       190\n",
       "2  Manchester  2000       160\n",
       "3  Manchester  2010       170\n",
       "4  Manchester  2020       140\n",
       "5      London  1980       100\n",
       "6      London  1990        90\n",
       "7      London  2000        60\n",
       "8      London  2010        70\n",
       "9      London  2020        80"
      ]
     },
     "execution_count": 2,
     "metadata": {},
     "output_type": "execute_result"
    }
   ],
   "source": [
    "example = pd.DataFrame([\n",
    "    {\"City\":\"Manchester\", \"Year\":1980, \"Rainfall\":200},\n",
    "    {\"City\":\"Manchester\", \"Year\":1990, \"Rainfall\":190},\n",
    "    {\"City\":\"Manchester\", \"Year\":2000, \"Rainfall\":160},\n",
    "    {\"City\":\"Manchester\", \"Year\":2010, \"Rainfall\":170},\n",
    "    {\"City\":\"Manchester\", \"Year\":2020, \"Rainfall\":140},\n",
    "    {\"City\":\"London\", \"Year\":1980, \"Rainfall\":100},\n",
    "    {\"City\":\"London\", \"Year\":1990, \"Rainfall\":90},\n",
    "    {\"City\":\"London\", \"Year\":2000, \"Rainfall\":60},\n",
    "    {\"City\":\"London\", \"Year\":2010, \"Rainfall\":70},\n",
    "    {\"City\":\"London\", \"Year\":2020, \"Rainfall\":80}\n",
    "])\n",
    "example"
   ]
  },
  {
   "cell_type": "markdown",
   "metadata": {
    "id": "QyVFad5S9b23"
   },
   "source": [
    "## Scatter plot\n",
    "The first plot we will create is a scatter plot, which uses the `geom_point()` geom. The important points to note in the code below are:\n",
    "\n",
    "- `ggplot()`, `aes()` and `geom_point()` all come from the plotnine module, so they need to have the `p9.` prefix\n",
    "- the first argument to `ggplot()` is always the dataframe containing the data to be plotted\n",
    "- the second argument to `ggplot()` is always the `aes()` object, which contains the variables to be used for the x axis, y axis, plot fill and plot colour. These should always be specified in that order.\n",
    "- the `geom_point()` argument is preceded by a `+` because it is being added to the plot object created by the `ggplot()` function\n",
    "- I have separated the commands across multiple lines to make it easier to read. When doing this, the whole chunk of code needs to be encapsulated in brackets"
   ]
  },
  {
   "cell_type": "code",
   "execution_count": 3,
   "metadata": {
    "colab": {
     "base_uri": "https://localhost:8080/",
     "height": 498
    },
    "executionInfo": {
     "elapsed": 1004,
     "status": "ok",
     "timestamp": 1612092688730,
     "user": {
      "displayName": "",
      "photoUrl": "",
      "userId": ""
     },
     "user_tz": 0
    },
    "id": "N1ziRcm-9b24",
    "outputId": "3d893ee6-60ac-4e95-9e32-8c819406d8a2"
   },
   "outputs": [
    {
     "data": {
      "image/png": "[encoded data removed]",
      "text/plain": [
       "<Figure size 640x480 with 1 Axes>"
      ]
     },
     "metadata": {},
     "output_type": "display_data"
    },
    {
     "data": {
      "text/plain": [
       "<ggplot: (375820207)>"
      ]
     },
     "execution_count": 3,
     "metadata": {},
     "output_type": "execute_result"
    }
   ],
   "source": [
    "(\n",
    "# create the plot object, and specify which variables should be placed on the x & y axes, and which should be used to fill and colour the plot\n",
    "p9.ggplot(example, p9.aes(\"Year\", \"Rainfall\", colour = \"City\"))\n",
    "    # specify a scatter plot\n",
    "    + p9.geom_point()\n",
    ")\n",
    "\n",
    "#p9.ggplot\n",
    "#https://plotnine.readthedocs.io/en/stable/"
   ]
  },
  {
   "cell_type": "markdown",
   "metadata": {
    "id": "yVuL2FKT9b24"
   },
   "source": [
    "## Line plot\n",
    "To create a line plot, we can use the same `ggplot()` call as we used for the scatter plot above, and this will keep the same variables for the *x*, *y*, *fill* and *colour*. The only thing that needs to change about the code is the **geom**. In this case, we will use `geom_line()`:"
   ]
  },
  {
   "cell_type": "code",
   "execution_count": null,
   "metadata": {
    "colab": {
     "base_uri": "https://localhost:8080/",
     "height": 498
    },
    "executionInfo": {
     "elapsed": 1063,
     "status": "ok",
     "timestamp": 1612092696432,
     "user": {
      "displayName": "",
      "photoUrl": "",
      "userId": ""
     },
     "user_tz": 0
    },
    "id": "kcE4eUsm9b25",
    "outputId": "77cb4175-f1c3-4a1f-b20f-3ba702134ead"
   },
   "outputs": [],
   "source": [
    "(\n",
    "# the ggplot call is exactly the same as the scatter plot\n",
    "p9.ggplot(example, p9.aes(\"Year\", \"Rainfall\", fill=\"City\", colour=\"City\"))\n",
    "    # specify a line plot\n",
    "    + p9.geom_line()\n",
    ")"
   ]
  },
  {
   "cell_type": "markdown",
   "metadata": {
    "id": "2Y4eKQK59b26"
   },
   "source": [
    "## Bar chart\n",
    "To create a bar chart, we again only need to change the **geom**. In this case, we will use `geom_col()`:"
   ]
  },
  {
   "cell_type": "code",
   "execution_count": null,
   "metadata": {
    "colab": {
     "base_uri": "https://localhost:8080/",
     "height": 498
    },
    "executionInfo": {
     "elapsed": 1337,
     "status": "ok",
     "timestamp": 1612092705051,
     "user": {
      "displayName": "",
      "photoUrl": "",
      "userId": ""
     },
     "user_tz": 0
    },
    "id": "J-QmEsJR9b26",
    "outputId": "69e51670-9d56-4932-8a8f-a0eb29ed1dfb"
   },
   "outputs": [],
   "source": [
    "(\n",
    "# the ggplot call is exactly the same as the scatter plot\n",
    "p9.ggplot(example, p9.aes(\"Year\", \"Rainfall\", fill=\"City\", colour=\"City\"))\n",
    "    # specify a bar chart\n",
    "    + p9.geom_col()\n",
    ")"
   ]
  },
  {
   "cell_type": "markdown",
   "metadata": {
    "id": "wupClT1t9b26"
   },
   "source": [
    "By default `geom_col()` stacks the bars for the same x axis variable on top of each other, but we can place them next to each other by using the `position` argument:"
   ]
  },
  {
   "cell_type": "code",
   "execution_count": null,
   "metadata": {
    "colab": {
     "base_uri": "https://localhost:8080/",
     "height": 498
    },
    "executionInfo": {
     "elapsed": 1495,
     "status": "ok",
     "timestamp": 1612092706212,
     "user": {
      "displayName": "",
      "photoUrl": "",
      "userId": ""
     },
     "user_tz": 0
    },
    "id": "SDZ_vIEd9b27",
    "outputId": "b9aac6c1-7373-4075-cd3b-5fd49e5e7ce6"
   },
   "outputs": [],
   "source": [
    "(\n",
    "# the ggplot call is exactly the same as the scatter plot\n",
    "p9.ggplot(example, p9.aes(\"Year\", \"Rainfall\", fill=\"City\", colour=\"City\"))\n",
    "    # specify a bar chart\n",
    "    + p9.geom_col(position=\"dodge\")\n",
    ")"
   ]
  },
  {
   "cell_type": "markdown",
   "metadata": {
    "id": "FIE-6IY59b27"
   },
   "source": [
    "## Box plot\n",
    "To create a box plot that visualizes the rainfall for the two cities, we need to use a different **geom** and change the x axis argument. In this case, we will use `geom_box()` and replace Year with City in the `aes()` call:"
   ]
  },
  {
   "cell_type": "code",
   "execution_count": null,
   "metadata": {
    "colab": {
     "base_uri": "https://localhost:8080/",
     "height": 532
    },
    "executionInfo": {
     "elapsed": 1469,
     "status": "ok",
     "timestamp": 1612092706622,
     "user": {
      "displayName": "",
      "photoUrl": "",
      "userId": ""
     },
     "user_tz": 0
    },
    "id": "fQaiwCdZ9b27",
    "outputId": "85c9ba5c-046b-4afb-efb4-051b0d9e3b41"
   },
   "outputs": [],
   "source": [
    "(\n",
    "# the ggplot call is exactly the same as the scatter plot\n",
    "p9.ggplot(example, p9.aes(\"City\", \"Rainfall\", fill=\"City\", colour=\"City\"))\n",
    "    # specify a box plot\n",
    "    + p9.geom_boxplot()\n",
    ")"
   ]
  },
  {
   "cell_type": "markdown",
   "metadata": {
    "id": "ZCEqapHo9b28"
   },
   "source": [
    "## Histograms\n",
    "Histograms can be very useful to visualize the distribution of a variable. To generate a histogram, we use `geom_histogram`. An important difference between this plot and the previous plots is that for histograms, we only specify the x axis variable within the `aes()` object, and we leave out the y axis variable:"
   ]
  },
  {
   "cell_type": "code",
   "execution_count": null,
   "metadata": {
    "colab": {
     "base_uri": "https://localhost:8080/",
     "height": 498
    },
    "executionInfo": {
     "elapsed": 1421,
     "status": "ok",
     "timestamp": 1612092706991,
     "user": {
      "displayName": "",
      "photoUrl": "",
      "userId": ""
     },
     "user_tz": 0
    },
    "id": "LWhurgCj9b28",
    "outputId": "e58c4607-269b-4f77-9c04-f2eb37c4236f"
   },
   "outputs": [],
   "source": [
    "(\n",
    "# the aes object contains only the variable that will be plotted on the x axis i.e. the one for which we want to generate a distribution\n",
    "p9.ggplot(example, p9.aes(\"Rainfall\"))\n",
    "    # specify a histogram\n",
    "    + p9.geom_histogram(binwidth=100)\n",
    ")"
   ]
  },
  {
   "cell_type": "markdown",
   "metadata": {
    "id": "PW45Z53o9b28"
   },
   "source": [
    "# Advanced visualization"
   ]
  },
  {
   "cell_type": "markdown",
   "metadata": {
    "id": "MyrtP5SQ9b29"
   },
   "source": [
    "## Input data\n",
    "To create some more advanced plots, we will use a more complex dataset: the clinical and expression data from the metabric project, as used in the previous sessions. First we will read the data in as a pandas dataframe, using `dropna()` to remove any rows with missing data, and then print out the column names and the data types that they hold by calling the `dtypes` attribute."
   ]
  },
  {
   "cell_type": "code",
   "execution_count": null,
   "metadata": {
    "id": "Hq_hTHX-9b29",
    "outputId": "b76a0c2d-cb7b-429b-ce60-0068c1cd538d"
   },
   "outputs": [],
   "source": [
    "metabric = pd.read_csv(\"../data/metabric_clinical_and_expression_data.csv\").dropna()\n",
    "metabric.dtypes\n",
    "metabric"
   ]
  },
  {
   "cell_type": "markdown",
   "metadata": {
    "id": "eaNDUQxV9b29"
   },
   "source": [
    "## Layered plots\n",
    "As shown in the last section, a variety of simple plots can be generated by changing just the **geom**. However, we can construct more complex plots by layering different geoms on top of each other. This is particularly useful when we want to highlight a broad pattern in a noisy dataset: we can use one layer to display a line to visualize a model fit to the data, and another layer to show the raw data in the background. There are two things worth noting here:\n",
    "1. By passing the `colour` and `size` arguments to `geom_point()` we can specify the colour and size of the points\n",
    "2. We are using the `stat_smooth()` layer to plot a line of model fit on top of the raw data"
   ]
  },
  {
   "cell_type": "code",
   "execution_count": null,
   "metadata": {
    "id": "EZNzHTAe9b2-",
    "outputId": "d118dd4d-56d0-4a4d-ddd2-ddadb4888048"
   },
   "outputs": [],
   "source": [
    "(\n",
    "p9.ggplot(metabric, p9.aes(\"Age_at_diagnosis\", \"Tumour_size\"))\n",
    " + p9.geom_point(colour=\"grey\", size=0.5)\n",
    " + p9.stat_smooth()\n",
    ")\n",
    "\n"
   ]
  },
  {
   "cell_type": "markdown",
   "metadata": {
    "id": "ni6EaBbi9b2-"
   },
   "source": [
    "## Faceted plots\n",
    "When a large dataset contains a discrete variable, it can be useful to generate separate plots for each value of the discrete variable, so that we can tease apart patterns that might only be present in a subset of the data. For example, patients in the metabric dataset are each assigned a vital status, but each vital status might have a different tumour size distribution. In plotnine, separate plots can be generated by creating a **faceted** plot, where each facet represents a different subset of the data. To do this, we add the `facet_wrap()` parameter to the plot. The arguments that we pass to `facet_wrap()` are very important:\n",
    "1. The first argument must always be the variable that we want to generate separate plots for, and we must always add a `~` before it\n",
    "2. We can use the `scales` argument to make the range of the x axis, y axis, or both axes independent of each other. The default is to use the same axis ranges for all facets, but when there is wide variation in a variable it can be useful to make them independent. In this case there are different numbers of patients in the different vital status classes, so specifying independent y axis ranges allows us to see their distributions more clearly\n",
    "3. We can use the `ncol` argument to specify the number of columns for the plot. By default the plots will be placed side-by-side until there is no more horizontal space, but we can place them on top of each other by specifying one column"
   ]
  },
  {
   "cell_type": "code",
   "execution_count": null,
   "metadata": {
    "id": "1HfSyoGs9b2-",
    "outputId": "bf3c7d2e-c14a-43a1-edfa-9a288b8ed9e0"
   },
   "outputs": [],
   "source": [
    "(\n",
    "p9.ggplot(metabric, p9.aes(\"Tumour_size\"))\n",
    " + p9.geom_histogram()\n",
    " + p9.facet_wrap(\"~Vital_status\", scales=\"free_x\", ncol=3)\n",
    ")"
   ]
  },
  {
   "cell_type": "markdown",
   "metadata": {
    "id": "njxWYLDf9b2_"
   },
   "source": [
    "## Heat maps\n",
    "When we want to explore the relationship between 2 discrete variables and a continuous variable, a heatmap can be very useful. We use `geom_tile()` to generate a different block for each combination of the discrete variables, and use the `fill` argument in the `aes()` object to specify which continuous variable to use for colouring the heatmap. It is worth noting in the example below that we can filter the dataset within the `ggplot()` call:"
   ]
  },
  {
   "cell_type": "code",
   "execution_count": null,
   "metadata": {
    "id": "H9Q-3dzv9b2_",
    "outputId": "a80100a9-baba-4c8c-87e1-75e15c9ab3d9"
   },
   "outputs": [],
   "source": [
    "# we can see from the histograms above that there are a few very large tumours, so we will filter these out as we pass the data into the plot\n",
    "(\n",
    "p9.ggplot(metabric[metabric[\"Tumour_size\"]<100], p9.aes(\"Vital_status\", \"Cancer_type\", fill=\"Tumour_size\"))\n",
    " + p9.geom_tile(p9.aes(width=0.95, height=0.95))\n",
    ")"
   ]
  },
  {
   "cell_type": "markdown",
   "metadata": {
    "id": "PUA0XBtM9b2_"
   },
   "source": [
    "## Nested plots\n",
    "In complex datasets there may be a relationship between two variables that differs according to the value of a third variable. To visualize this, we can plot one variable on the x axis, another variable on the y axis, and use the `fill` parameter in the `aes()` object to split the x axis by a third variable. For example, we can compare the mutation count between different vital statuses, each subdivided by cancer type:"
   ]
  },
  {
   "cell_type": "code",
   "execution_count": null,
   "metadata": {
    "id": "u3CrfL-x9b3A",
    "outputId": "9551f333-41e2-466b-f004-806a1bf8e3e2"
   },
   "outputs": [],
   "source": [
    "(\n",
    "p9.ggplot(metabric, p9.aes(\"Vital_status\", \"Mutation_count\", fill=\"Cancer_type\"))\n",
    "    + p9.geom_boxplot()\n",
    ")"
   ]
  },
  {
   "cell_type": "markdown",
   "metadata": {
    "id": "y2o9GfWy9b3A"
   },
   "source": [
    "## Plot formatting\n",
    "We often want to make specific changes to the format of our plots, and plotnine offers enormous flexibility for this. In the nested plot above, we may want to add a title, remove the underscores in the axes and legend titles, and change the order of the vital statuses. We can make these changes by specifying the following objects:\n",
    "- `ggtitle`: add a title to the plot\n",
    "- `xlab`: specify the x axis label\n",
    "- `ylab`: specify the y axis label\n",
    "- `scale_fill_discrete`: control the name, order or colours of the variable used to fill the plot\n",
    "- `scale_x_discrete`: control the name, order or colours of the variable on the x axis. By setting the `limits` parameter to a list, we can specify the order of the vital statuses"
   ]
  },
  {
   "cell_type": "code",
   "execution_count": null,
   "metadata": {
    "id": "tyWBigXo9b3A",
    "outputId": "7ab2c23b-881f-462a-b45b-9c8e0ada5170"
   },
   "outputs": [],
   "source": [
    "(\n",
    "p9.ggplot(metabric, p9.aes(x=\"Vital_status\", y=\"Mutation_count\", fill=\"Cancer_type\"))\n",
    "    + p9.geom_boxplot()\n",
    "    + p9.ggtitle(\"Metabric breast cancer dataset\")\n",
    "    + p9.ylab(\"Mutation count\")\n",
    "    + p9.xlab(\"Vital status\")\n",
    "    + p9.scale_fill_discrete(name = \"Cancer type\")\n",
    "    + p9.scale_x_discrete(limits=[\"Living\", \"Died of Disease\", \"Died of Other Causes\"])\n",
    ")"
   ]
  },
  {
   "cell_type": "markdown",
   "metadata": {
    "id": "BJl0CmJN9b3A"
   },
   "source": [
    "## Themes\n",
    "In any plot generated by plotnine, many cosmetic details are controlled by the **theme**, including the font, background colour, line thicknesses etc. plotnine comes with a number of pre-defined themes, which allow us to make dramatic changes to how a plot looks by adding just one more line to our existing plotting code. Let's go back to the plot of age at diagnosis versus tumour size, but this time colour the points by vital status:"
   ]
  },
  {
   "cell_type": "code",
   "execution_count": null,
   "metadata": {
    "id": "greDkpe09b3B",
    "outputId": "abe7d736-f9cc-441d-b092-6d5a56478c4c"
   },
   "outputs": [],
   "source": [
    "(\n",
    "p9.ggplot(metabric, p9.aes(\"Age_at_diagnosis\", \"Tumour_size\"))\n",
    " + p9.geom_point(p9.aes(colour=\"Vital_status\"))\n",
    " + p9.stat_smooth()\n",
    ")"
   ]
  },
  {
   "cell_type": "markdown",
   "metadata": {
    "id": "O46x0zzx9b3B"
   },
   "source": [
    "By using `theme_minimal()` we can remove the grey background and axis tickmarks, and make the minor gridlines much fainter:"
   ]
  },
  {
   "cell_type": "code",
   "execution_count": null,
   "metadata": {
    "id": "Gb1UhWhU9b3B",
    "outputId": "cff17f40-c2d9-473d-961d-668723e86271"
   },
   "outputs": [],
   "source": [
    "(\n",
    "p9.ggplot(metabric, p9.aes(\"Age_at_diagnosis\", \"Tumour_size\"))\n",
    " + p9.geom_point(p9.aes(colour=\"Vital_status\"), size=0.5)\n",
    " + p9.stat_smooth()\n",
    " + p9.theme_minimal()\n",
    ")"
   ]
  },
  {
   "cell_type": "markdown",
   "metadata": {
    "id": "PyGovthb9b3C"
   },
   "source": [
    "`theme_matplotlib()` removes the gridlines and grey background, and add minor tickmarks and a border to the plot:"
   ]
  },
  {
   "cell_type": "code",
   "execution_count": null,
   "metadata": {
    "id": "xSWA__P29b3C",
    "outputId": "f4b72b90-f32c-42e3-8758-116ad0bd69ac"
   },
   "outputs": [],
   "source": [
    "(\n",
    "p9.ggplot(metabric, p9.aes(\"Age_at_diagnosis\", \"Tumour_size\"))\n",
    " + p9.geom_point(p9.aes(colour=\"Vital_status\"), size=0.5)\n",
    " + p9.stat_smooth()\n",
    " + p9.theme_matplotlib()\n",
    ")"
   ]
  },
  {
   "cell_type": "markdown",
   "metadata": {
    "id": "_VnAoyvY9b3C"
   },
   "source": [
    "`theme_xkcd()` gives the plot a hand-drawn feel, following the style of the [xkcd webcomic](https://xkcd.com/):"
   ]
  },
  {
   "cell_type": "code",
   "execution_count": null,
   "metadata": {
    "id": "iYmr0EsX9b3C",
    "outputId": "54590ff2-9cc8-4237-86d7-e9c3a92da7ee"
   },
   "outputs": [],
   "source": [
    "(\n",
    "p9.ggplot(metabric, p9.aes(\"Age_at_diagnosis\", \"Tumour_size\"))\n",
    " + p9.geom_point(p9.aes(colour=\"Vital_status\"), size=0.5)\n",
    " + p9.stat_smooth()\n",
    " + p9.theme_xkcd()\n",
    ")"
   ]
  },
  {
   "cell_type": "markdown",
   "metadata": {
    "id": "_oKxd1Hq9b3D"
   },
   "source": [
    "As well as using the settings from pre-defined themes, we can specify changes to the theme directly. To do this, we add the `theme()` object to the plot, and make changes to specific aspects of the plot within the call to the object. For example, we can create a version of the scatterplot above that doesn't have a legend title. To do this, we set the value of the `legend_title` parameter as `element_blank()`. `element_blank()` is a special object from the plotnine module that serves as an empty placeholder, and it can be used to remove the values for many different plot elements such as axis labels, axis values etc. In this case, it removes the legend title:"
   ]
  },
  {
   "cell_type": "code",
   "execution_count": null,
   "metadata": {
    "id": "QRA_csd49b3D",
    "outputId": "981835a4-45b2-4891-bd5b-6615ca2c3b87"
   },
   "outputs": [],
   "source": [
    "(\n",
    "p9.ggplot(metabric, p9.aes(\"Age_at_diagnosis\", \"Tumour_size\"))\n",
    " + p9.geom_point(p9.aes(colour=\"Vital_status\"), size=0.5)\n",
    " + p9.stat_smooth()\n",
    " + p9.theme(legend_title = p9.element_blank())\n",
    ")"
   ]
  },
  {
   "cell_type": "markdown",
   "metadata": {
    "id": "IEkddhxV9b3D"
   },
   "source": [
    "We can combine specific changes and pre-existing themes by first specifying the theme, and then using the `theme()` object to specify changes to that theme. When doing this, we must always apply the pre-defined theme first, otherwise the specific changes we have made using the `theme()` object will be overwritten. For example, we can apply the matplotlib theme, and then remove the legend title by using the `theme()` object:"
   ]
  },
  {
   "cell_type": "code",
   "execution_count": null,
   "metadata": {
    "id": "hLT58aQR9b3E",
    "outputId": "b536470b-236f-4bbe-80fd-a6497078027c"
   },
   "outputs": [],
   "source": [
    "(\n",
    "p9.ggplot(metabric, p9.aes(\"Age_at_diagnosis\", \"Tumour_size\"))\n",
    " + p9.geom_point(p9.aes(colour=\"Vital_status\"), size=0.5)\n",
    " + p9.stat_smooth()\n",
    " + p9.theme(legend_title = p9.element_blank())\n",
    " + p9.theme_matplotlib()\n",
    ")"
   ]
  },
  {
   "cell_type": "markdown",
   "metadata": {
    "id": "PrBtGOt_9b3E"
   },
   "source": [
    "## Saving plots\n",
    "Once we have produced a plot, we usually want to save it as a separate file. In Python, we can do this by assigning the `ggplot()` call to a variable, and then calling the `.save()` method on this variable. The first argument to `.save()` is always the file name (or full file path), with the file type determined by the file name ending. We can also specify the height and width of the plot, and the units of measurement for these dimensions."
   ]
  },
  {
   "cell_type": "code",
   "execution_count": null,
   "metadata": {
    "id": "vOktcX6m9b3E",
    "outputId": "41e578db-16dd-4f06-a18e-6a50f54a3c78"
   },
   "outputs": [],
   "source": [
    "age_vs_size = (\n",
    "p9.ggplot(metabric, p9.aes(\"Age_at_diagnosis\", \"Tumour_size\"))\n",
    " + p9.geom_point(colour=\"grey\", size=0.5)\n",
    " + p9.stat_smooth()\n",
    " + p9.theme_matplotlib()\n",
    ")\n",
    "age_vs_size.save(\"metabric_age_size.pdf\", height=100, width=100, units=\"mm\")\n",
    "#age_vs_size"
   ]
  },
  {
   "cell_type": "markdown",
   "metadata": {
    "id": "A5luc3A99b3F"
   },
   "source": [
    "## Suppressing warning messages\n",
    "When using plotnine for data visualization, a lot of warning messages can be generated. For example, "
   ]
  },
  {
   "cell_type": "code",
   "execution_count": null,
   "metadata": {
    "id": "gg-HPV2Q9b3F",
    "outputId": "562a9dc8-ac5a-4125-9cca-60f1e0841004"
   },
   "outputs": [],
   "source": [
    "(\n",
    "p9.ggplot(metabric, p9.aes(\"Age_at_diagnosis\", \"Tumour_size\"))\n",
    " + p9.geom_point(colour=\"grey\", size=0.5)\n",
    " + p9.stat_smooth()\n",
    ")"
   ]
  },
  {
   "cell_type": "markdown",
   "metadata": {
    "id": "KEhTtwcc9b3F"
   },
   "source": [
    "These messages are often informative, but they can be undesirable if we want to use the notebook to communicate our findings. To suppress these messages, we can use the `filterwarnings()` function from the `warnings` module. By setting this to \"ignore\", we will suppress warning messages from plotnine:"
   ]
  },
  {
   "cell_type": "code",
   "execution_count": null,
   "metadata": {
    "id": "fmUbOVex9b3F",
    "outputId": "1f80d3c0-b325-40e9-c11b-3aba309b2997"
   },
   "outputs": [],
   "source": [
    "import warnings\n",
    "warnings.filterwarnings('ignore')\n",
    "(\n",
    "p9.ggplot(metabric, p9.aes(\"Age_at_diagnosis\", \"Tumour_size\"))\n",
    " + p9.geom_point(colour=\"grey\", size=0.5)\n",
    " + p9.stat_smooth()\n",
    ")"
   ]
  },
  {
   "cell_type": "markdown",
   "metadata": {
    "id": "xg08YRBp9b3G"
   },
   "source": [
    "**Use this with caution**: all warnings from all Python modules will be suppressed, so it is usually sensible to run your code with warnings printed first, check the messages are safe to ignore, and then rerun your code with the messages suppressed."
   ]
  },
  {
   "cell_type": "markdown",
   "metadata": {
    "id": "kKdibAnQ9b3G"
   },
   "source": [
    "## Further reading\n",
    "In this session we have seen that plotnine can be used to generate many different plots with very little code. However, we have just scratched the surface of what is possible with this package, and with data visualization in Python more generally. There are many resources that you can use to extend your Python data vizualization skills:\n",
    "- to see the full range of plot types that can be generated with plotnine, see the [plotnine gallery](https://plotnine.readthedocs.io/en/stable/gallery.html)\n",
    "- for full details of how each plotnine geom and object works, see the [plotnine API documentation](https://plotnine.readthedocs.io/en/stable/api.html)\n",
    "- if you want to generate bespoke plots with full control over each plotting element, take a look at the [matplotlib](https://matplotlib.org/) and [seaborn](https://seaborn.pydata.org) modules"
   ]
  },
  {
   "cell_type": "markdown",
   "metadata": {
    "id": "xTDhK0aD9b3G"
   },
   "source": [
    "# Homework"
   ]
  },
  {
   "cell_type": "markdown",
   "metadata": {
    "id": "_0P5xZXk9b3G"
   },
   "source": [
    "## Exercise 1\n",
    "Plot the distribution of survival time for all patients, and use the *bins* parameter to change the granularity of the distribution."
   ]
  },
  {
   "cell_type": "markdown",
   "metadata": {
    "id": "xF1EC0SS9b3H"
   },
   "source": [
    "## Exercise 2\n",
    "Amend your code from exercise 1 to create interleaved distributions of survival time for ER positive and ER negative tumours."
   ]
  },
  {
   "cell_type": "markdown",
   "metadata": {
    "id": "SRD96r2a9b3H"
   },
   "source": [
    "## Exercise 3\n",
    "Generate a boxplot to compare survival time between different cancer types, incorporating the following features:\n",
    "1. Add points behind the boxes to show the raw data points\n",
    "2. Colour the boxes by Cancer type\n",
    "3. Separate the plot into individual facets for ER+ and ER-\n",
    "4. Rename the x axis to \"Type of cancer\"\n",
    "5. Rename the y axis to \"Survival time (months)\"\n",
    "6. Use a theme that removes the background colour and gridlines\n",
    "7. Remove the legend title\n",
    "8. Remove the X axis labels"
   ]
  }
 ],
 "metadata": {
  "colab": {
   "name": "Copy of week4_lecture.ipynb",
   "provenance": [
    {
     "file_id": "https://github.com/leosouliotis/data-science-python/blob/master/notebooks/week4_lecture.ipynb",
     "timestamp": 1612093333474
    }
   ]
  },
  "kernelspec": {
   "display_name": "Python 3",
   "language": "python",
   "name": "python3"
  },
  "language_info": {
   "codemirror_mode": {
    "name": "ipython",
    "version": 3
   },
   "file_extension": ".py",
   "mimetype": "text/x-python",
   "name": "python",
   "nbconvert_exporter": "python",
   "pygments_lexer": "ipython3",
   "version": "3.8.2"
  }
 },
 "nbformat": 4,
 "nbformat_minor": 1
}
